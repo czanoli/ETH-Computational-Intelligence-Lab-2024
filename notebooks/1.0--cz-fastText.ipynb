{
 "cells": [
  {
   "cell_type": "markdown",
   "metadata": {},
   "source": [
    "# Notebook to test FastText"
   ]
  },
  {
   "cell_type": "markdown",
   "metadata": {},
   "source": [
    "### Imports"
   ]
  },
  {
   "cell_type": "code",
   "execution_count": 1,
   "metadata": {},
   "outputs": [],
   "source": [
    "import warnings\n",
    "import pandas as pd\n",
    "from sklearn.model_selection import train_test_split\n",
    "\n",
    "warnings.filterwarnings(\"ignore\")"
   ]
  },
  {
   "cell_type": "markdown",
   "metadata": {},
   "source": [
    "### Functions"
   ]
  },
  {
   "cell_type": "code",
   "execution_count": null,
   "metadata": {},
   "outputs": [],
   "source": [
    "def create_fasttext_format(df, file_path):\n",
    "    \"\"\"\n",
    "    Creates a text file from a DataFrame in the format required by FastText for training.\n",
    "\n",
    "    Parameters\n",
    "    ----------\n",
    "    df : pandas.DataFrame\n",
    "        The DataFrame containing the tweets and labels.\n",
    "    file_path : str\n",
    "        The path where the output file will be saved.\n",
    "\n",
    "    Returns\n",
    "    -------\n",
    "    None\n",
    "    \"\"\"\n",
    "    with open(file_path, 'w', encoding='utf-8') as f:\n",
    "        for _, row in df.iterrows():\n",
    "            label = \"__label__\" + str(row['label'])\n",
    "            tweet = row['tweet'].replace('\\n', ' ')\n",
    "            f.write(f\"{label} {tweet}\\n\")\n",
    "            \n",
    "def create_fasttext_test_format(df, file_path):\n",
    "    \"\"\"\n",
    "    Creates a text file from a DataFrame in the format required by FastText for testing.\n",
    "\n",
    "    Parameters\n",
    "    ----------\n",
    "    df : pandas.DataFrame\n",
    "        The DataFrame containing the tweets.\n",
    "    file_path : str\n",
    "        The path where the output file will be saved.\n",
    "\n",
    "    Returns\n",
    "    -------\n",
    "    None\n",
    "    \"\"\"\n",
    "    with open(file_path, 'w', encoding='utf-8') as f:\n",
    "        for _, row in df.iterrows():\n",
    "            tweet = row['tweet'].replace('\\n', ' ')\n",
    "            f.write(f\"{tweet}\\n\")"
   ]
  },
  {
   "cell_type": "markdown",
   "metadata": {},
   "source": [
    "### Pipeline"
   ]
  },
  {
   "cell_type": "markdown",
   "metadata": {},
   "source": [
    "#### 1. Pre-processing data in required format"
   ]
  },
  {
   "cell_type": "code",
   "execution_count": 25,
   "metadata": {},
   "outputs": [],
   "source": [
    "# Load data\n",
    "df = pd.read_csv('../data/processed/train_full.csv')\n",
    "df = df.dropna(subset=['tweet'])\n",
    "random_state = 42\n",
    "\n",
    "X = df['tweet']\n",
    "y = df['label']\n",
    "\n",
    "# Split data into training and validation sets\n",
    "X_train, X_val, y_train, y_val = train_test_split(X, y, test_size=0.1, random_state=random_state)\n",
    "\n",
    "train_df = pd.concat([X_train, y_train], axis=1)\n",
    "val_df = pd.concat([X_val, y_val], axis=1)\n",
    "\n",
    "create_fasttext_format(train_df, 'fasttext_train.txt')\n",
    "create_fasttext_format(val_df, 'fasttext_val.txt')\n",
    "\n",
    "df_test = pd.read_csv('../data/processed/test.csv')\n",
    "create_fasttext_test_format(df_test, 'test.txt')"
   ]
  },
  {
   "cell_type": "markdown",
   "metadata": {},
   "source": [
    "#### 2. Training and Making predictions using commands in the README.md"
   ]
  },
  {
   "cell_type": "markdown",
   "metadata": {},
   "source": [
    "#### 3. Format predictions file"
   ]
  },
  {
   "cell_type": "code",
   "execution_count": 4,
   "metadata": {},
   "outputs": [
    {
     "name": "stdout",
     "output_type": "stream",
     "text": [
      "10000\n"
     ]
    }
   ],
   "source": [
    "# Read the predictions\n",
    "with open('../results/fasttext_predictions.txt', 'r', encoding='utf-8') as f:\n",
    "    predictions = [line.strip() for line in f.readlines()]\n",
    "\n",
    "# Substitute labels\n",
    "predictions = ['1' if p == '__label__positive' else '-1' for p in predictions]\n",
    "\n",
    "# Combine IDs with predictions\n",
    "result_df = df_test[['id']].copy()\n",
    "result_df['prediction'] = predictions\n",
    "print(len(result_df))\n",
    "\n",
    "# Save the result to a new CSV file\n",
    "result_df.to_csv('../results/fasttext_predictions.csv', index=False)"
   ]
  },
  {
   "cell_type": "code",
   "execution_count": null,
   "metadata": {},
   "outputs": [],
   "source": []
  }
 ],
 "metadata": {
  "kernelspec": {
   "display_name": "cillenv",
   "language": "python",
   "name": "python3"
  },
  "language_info": {
   "codemirror_mode": {
    "name": "ipython",
    "version": 3
   },
   "file_extension": ".py",
   "mimetype": "text/x-python",
   "name": "python",
   "nbconvert_exporter": "python",
   "pygments_lexer": "ipython3",
   "version": "3.10.0"
  }
 },
 "nbformat": 4,
 "nbformat_minor": 2
}
