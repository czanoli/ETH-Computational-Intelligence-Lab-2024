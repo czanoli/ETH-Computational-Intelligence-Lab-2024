{
 "cells": [
  {
   "cell_type": "markdown",
   "metadata": {},
   "source": [
    "# CNN"
   ]
  },
  {
   "cell_type": "markdown",
   "metadata": {},
   "source": [
    "## 0 - IMPORTS"
   ]
  },
  {
   "cell_type": "code",
   "execution_count": 45,
   "metadata": {},
   "outputs": [],
   "source": [
    "import torch\n",
    "import torch.nn as nn\n",
    "import torch.optim as optim\n",
    "from torch.utils.data import DataLoader, Dataset\n",
    "import numpy as np\n",
    "import pandas as pd\n",
    "from sklearn.model_selection import train_test_split\n",
    "from sklearn.preprocessing import LabelEncoder\n",
    "from sklearn.feature_extraction.text import TfidfVectorizer\n",
    "import torch.nn.functional as F\n",
    "import torch\n",
    "import torch.nn as nn\n",
    "import torch.optim as optim\n",
    "from torch.utils.data import DataLoader, Dataset, TensorDataset\n",
    "import pandas as pd\n",
    "from sklearn.model_selection import train_test_split\n",
    "from sklearn.preprocessing import LabelEncoder\n",
    "from tensorflow.keras.preprocessing.text import Tokenizer\n",
    "from tensorflow.keras.preprocessing.sequence import pad_sequences"
   ]
  },
  {
   "cell_type": "markdown",
   "metadata": {},
   "source": [
    "## 1 - DATA LOAD"
   ]
  },
  {
   "cell_type": "code",
   "execution_count": 46,
   "metadata": {},
   "outputs": [],
   "source": [
    "# 1.1 - load data (FULL)\n",
    "df = pd.read_csv('../data/processed/train_full_no_sarcasm.csv')\n",
    "df = df.dropna(subset=['tweet'])\n",
    "\n",
    "# 1.2 - split dataset into training, validation, and test\n",
    "df_train, df_temp, y_train, y_temp = train_test_split(df[\"tweet\"], df[\"label\"], test_size=0.3, random_state=42)\n",
    "df_val, df_test, y_val, y_test = train_test_split(df_temp, y_temp, test_size=0.5, random_state=42)"
   ]
  },
  {
   "cell_type": "markdown",
   "metadata": {},
   "source": [
    "## 2 - TOKENIZATION + PADDING"
   ]
  },
  {
   "cell_type": "code",
   "execution_count": 58,
   "metadata": {},
   "outputs": [],
   "source": [
    "# 2.1 - tokenization\n",
    "max_words = 10000\n",
    "tokenizer = Tokenizer(num_words=max_words)\n",
    "tokenizer.fit_on_texts(df_train)\n",
    "sequence_train = tokenizer.texts_to_sequences(df_train)\n",
    "sequence_val = tokenizer.texts_to_sequences(df_val)\n",
    "sequence_test = tokenizer.texts_to_sequences(df_test)\n",
    "word2vec = tokenizer.word_index\n",
    "V = len(word2vec)\n",
    "\n",
    "# 2.2 - padding\n",
    "data_train = pad_sequences(sequence_train)\n",
    "T = data_train.shape[1]\n",
    "data_val = pad_sequences(sequence_val, maxlen=T)\n",
    "data_test = pad_sequences(sequence_test, maxlen=T)\n",
    "\n",
    "# 2.3 - convert to PyTorch tensors\n",
    "X_train = torch.tensor(data_train, dtype=torch.long)\n",
    "y_train = torch.tensor(LabelEncoder().fit_transform(y_train), dtype=torch.float32)\n",
    "X_val = torch.tensor(data_val, dtype=torch.long)\n",
    "y_val = torch.tensor(LabelEncoder().fit_transform(y_val), dtype=torch.float32)\n",
    "X_test = torch.tensor(data_test, dtype=torch.long)\n",
    "y_test = torch.tensor(LabelEncoder().fit_transform(y_test), dtype=torch.float32)\n",
    "\n",
    "# 2.4 - create dataLoader\n",
    "train_loader = DataLoader(TensorDataset(X_train, y_train), batch_size=32, shuffle=True)\n",
    "val_loader = DataLoader(TensorDataset(X_val, y_val), batch_size=32)\n",
    "test_loader = DataLoader(TensorDataset(X_test, y_test), batch_size=32)"
   ]
  },
  {
   "cell_type": "markdown",
   "metadata": {},
   "source": [
    "## 3 - CNN"
   ]
  },
  {
   "cell_type": "markdown",
   "metadata": {},
   "source": [
    "### 3.1 - MODEL"
   ]
  },
  {
   "cell_type": "code",
   "execution_count": 54,
   "metadata": {},
   "outputs": [],
   "source": [
    "# 3.1.0 - model (v2)\n",
    "class CNN(nn.Module):\n",
    "    def __init__(self, vocab_size, embed_dim):\n",
    "        super(CNN, self).__init__()\n",
    "        self.embedding = nn.Embedding(vocab_size, embed_dim)\n",
    "        self.conv1 = nn.Conv1d(in_channels=embed_dim, out_channels=32, kernel_size=3, padding=1)\n",
    "        self.pool1 = nn.MaxPool1d(kernel_size=3, stride=2)\n",
    "        self.conv2 = nn.Conv1d(in_channels=32, out_channels=64, kernel_size=3, padding=1)\n",
    "        self.pool2 = nn.MaxPool1d(kernel_size=3, stride=2)\n",
    "        self.conv3 = nn.Conv1d(in_channels=64, out_channels=128, kernel_size=3, padding=1)\n",
    "        self.global_pool = nn.AdaptiveMaxPool1d(1)\n",
    "        self.fc1 = nn.Linear(128, 256)\n",
    "        self.fc2 = nn.Linear(256, 1)\n",
    "        self.dropout = nn.Dropout(0.5)\n",
    "    def forward(self, x):\n",
    "        x = self.embedding(x).transpose(1, 2)\n",
    "        x = self.pool1(F.relu(self.conv1(x)))\n",
    "        x = self.pool2(F.relu(self.conv2(x)))\n",
    "        x = self.global_pool(F.relu(self.conv3(x))).squeeze(2)\n",
    "        x = F.relu(self.fc1(x))\n",
    "        x = self.dropout(x)\n",
    "        x = self.fc2(x)\n",
    "        return x"
   ]
  },
  {
   "cell_type": "code",
   "execution_count": null,
   "metadata": {},
   "outputs": [],
   "source": [
    "class CNN(nn.Module):\n",
    "    def __init__(self, vocab_size, embed_dim, num_classes):\n",
    "        super(CNN, self).__init__()\n",
    "        self.embedding = nn.Embedding(vocab_size, embed_dim)\n",
    "        self.conv1 = nn.Conv1d(in_channels=embed_dim, out_channels=32, kernel_size=3, padding=1)\n",
    "        self.pool1 = nn.MaxPool1d(kernel_size=3, stride=2)\n",
    "        self.conv2 = nn.Conv1d(in_channels=32, out_channels=64, kernel_size=3, padding=1)\n",
    "        self.pool2 = nn.MaxPool1d(kernel_size=3, stride=2)\n",
    "        self.conv3 = nn.Conv1d(in_channels=64, out_channels=128, kernel_size=3, padding=1)\n",
    "        self.global_pool = nn.AdaptiveMaxPool1d(1)\n",
    "        self.fc1 = nn.Linear(128, 256)\n",
    "        self.fc2 = nn.Linear(256, num_classes)\n",
    "        self.dropout = nn.Dropout(0.5)\n",
    "\n",
    "    def forward(self, x):\n",
    "        x = self.embedding(x).transpose(1, 2)\n",
    "        x = self.pool1(F.relu(self.conv1(x)))\n",
    "        x = self.pool2(F.relu(self.conv2(x)))\n",
    "        x = self.global_pool(F.relu(self.conv3(x))).squeeze(2)\n",
    "        x = F.relu(self.fc1(x))\n",
    "        x = self.dropout(x)\n",
    "        x = self.fc2(x)\n",
    "        return x"
   ]
  },
  {
   "cell_type": "code",
   "execution_count": 56,
   "metadata": {},
   "outputs": [],
   "source": [
    "# 3.1.1 - initialize model\n",
    "model = CNN(vocab_size=V+1, embed_dim=20)\n",
    "# 3.1.2 - define loss\n",
    "criterion = nn.BCEWithLogitsLoss()\n",
    "# 3.1.3- define optimizer\n",
    "optimizer = optim.Adam(model.parameters(), lr=0.001)"
   ]
  },
  {
   "cell_type": "markdown",
   "metadata": {},
   "source": [
    "### 3.2 - TRAINING"
   ]
  },
  {
   "cell_type": "code",
   "execution_count": 59,
   "metadata": {},
   "outputs": [
    {
     "name": "stdout",
     "output_type": "stream",
     "text": [
      "Epoch 1, Train Loss: 0.4749968820294981, Train Accuracy: 76.47430199934841%, Validation Loss: 0.4468413706261495, Validation Accuracy: 78.22102823741272%\n",
      "Epoch 2, Train Loss: 0.44268891318126397, Train Accuracy: 78.73099417054401%, Validation Loss: 0.44194557072111595, Validation Accuracy: 78.66444270595008%\n",
      "Epoch 3, Train Loss: 0.43503227187179383, Train Accuracy: 79.18115595929818%, Validation Loss: 0.43797343466539995, Validation Accuracy: 78.85220009742129%\n",
      "Epoch 4, Train Loss: 0.43026945868487004, Train Accuracy: 79.46709346424042%, Validation Loss: 0.438119698254627, Validation Accuracy: 78.86253265827268%\n",
      "Epoch 5, Train Loss: 0.4263809618399031, Train Accuracy: 79.69052958535899%, Validation Loss: 0.4338283095626351, Validation Accuracy: 79.03789097672221%\n",
      "Epoch 6, Train Loss: 0.4231345355402118, Train Accuracy: 79.88853498148049%, Validation Loss: 0.43369690737048866, Validation Accuracy: 78.9369270964028%\n",
      "Epoch 7, Train Loss: 0.4199432632062654, Train Accuracy: 80.05604881180948%, Validation Loss: 0.43441402739001517, Validation Accuracy: 79.02608233574918%\n",
      "Epoch 8, Train Loss: 0.41733206644711285, Train Accuracy: 80.19971342988995%, Validation Loss: 0.4346951750052036, Validation Accuracy: 79.01604499092211%\n",
      "Epoch 9, Train Loss: 0.41525577662156377, Train Accuracy: 80.3531834270116%, Validation Loss: 0.4361194327991648, Validation Accuracy: 79.10785717448744%\n",
      "Epoch 10, Train Loss: 0.4129100677746819, Train Accuracy: 80.4599039072854%, Validation Loss: 0.43604718587607083, Validation Accuracy: 79.08276381241974%\n",
      "Epoch 11, Train Loss: 0.4117374658538141, Train Accuracy: 80.53980193134336%, Validation Loss: 0.4372980346765609, Validation Accuracy: 78.94401228098661%\n",
      "----> early stopped\n"
     ]
    }
   ],
   "source": [
    "# 3.2.0 - since overfitting was observed -> early stopping parameters\n",
    "wait = 5\n",
    "best_val_loss = np.inf\n",
    "epochs_no_impr = 0\n",
    "early_stop = False\n",
    "\n",
    "# 3.2.1 - training loop\n",
    "epochs = 50\n",
    "for epoch in range(epochs):\n",
    "    model.train()\n",
    "    train_loss = 0.0\n",
    "    correct_train = 0\n",
    "    total_train = 0\n",
    "    for texts, labels in train_loader:\n",
    "        optimizer.zero_grad()\n",
    "        outputs = model(texts).squeeze(1)\n",
    "        loss = criterion(outputs, labels)\n",
    "        loss.backward()\n",
    "        optimizer.step()\n",
    "\n",
    "        train_loss += loss.item()\n",
    "        predicted = torch.round(torch.sigmoid(outputs))\n",
    "        total_train += labels.size(0)\n",
    "        correct_train += (predicted == labels).sum().item()\n",
    "    \n",
    "    train_accuracy = 100 * correct_train / total_train\n",
    "    \n",
    "    # 3.2.2 - validation\n",
    "    model.eval()\n",
    "    val_loss = 0.0\n",
    "    correct_val = 0\n",
    "    total_val = 0\n",
    "    with torch.no_grad():\n",
    "        for texts, labels in val_loader:\n",
    "            outputs = model(texts).squeeze(1)\n",
    "            loss = criterion(outputs, labels)\n",
    "            val_loss += loss.item()\n",
    "            predicted = torch.round(torch.sigmoid(outputs))\n",
    "            total_val += labels.size(0)\n",
    "            correct_val += (predicted == labels).sum().item()\n",
    "\n",
    "    val_accuracy = 100 * correct_val / total_val\n",
    "    avg_val_loss = val_loss / len(val_loader)\n",
    "\n",
    "    print(f'Epoch {epoch+1}, Train Loss: {train_loss / len(train_loader)}, Train Accuracy: {train_accuracy}%, '\n",
    "          f'Validation Loss: {avg_val_loss}, Validation Accuracy: {val_accuracy}%')\n",
    "\n",
    "    # 3.2.3 - early stopping \n",
    "    if avg_val_loss < best_val_loss:\n",
    "        best_val_loss = avg_val_loss\n",
    "        epochs_no_impr = 0\n",
    "        torch.save(model.state_dict(), 'best_CNN_model.pt')\n",
    "    else:\n",
    "        epochs_no_impr += 1\n",
    "        if epochs_no_impr >= wait:\n",
    "            print('----> early stopped')\n",
    "            early_stop = True\n",
    "            break\n",
    "    "
   ]
  },
  {
   "cell_type": "markdown",
   "metadata": {},
   "source": [
    "### 3.3 - TESTING"
   ]
  },
  {
   "cell_type": "code",
   "execution_count": 66,
   "metadata": {},
   "outputs": [
    {
     "name": "stdout",
     "output_type": "stream",
     "text": [
      "model loaded\n",
      "Test Loss: 0.43334260722279166, Test Accuracy: 79.05861792074063%\n"
     ]
    }
   ],
   "source": [
    "# 3.3.0 - load best model\n",
    "model.load_state_dict(torch.load('best_CNN_model.pt'))\n",
    "print('model loaded')\n",
    "\n",
    "# 3.3.1 - testing loop\n",
    "model.eval()\n",
    "test_loss = 0.0\n",
    "correct_test = 0\n",
    "total_test = 0\n",
    "with torch.no_grad():\n",
    "    for texts, labels in test_loader:\n",
    "        outputs = model(texts).squeeze(1)\n",
    "        loss = criterion(outputs, labels)\n",
    "        test_loss += loss.item()\n",
    "        predicted = torch.round(torch.sigmoid(outputs))\n",
    "        total_test += labels.size(0)\n",
    "        correct_test += (predicted == labels).sum().item()\n",
    "\n",
    "test_accuracy = 100 * correct_test / total_test\n",
    "print(f'Test Loss: {test_loss / len(test_loader)}, Test Accuracy: {test_accuracy}%')\n"
   ]
  },
  {
   "cell_type": "markdown",
   "metadata": {},
   "source": [
    "## 4 - CNN LSTM"
   ]
  },
  {
   "cell_type": "markdown",
   "metadata": {},
   "source": [
    "### 4.1 - MODEL"
   ]
  },
  {
   "cell_type": "code",
   "execution_count": null,
   "metadata": {},
   "outputs": [],
   "source": [
    "# 4.1.0 - V1 (LSTM BEFORE CNN)\n",
    "class CNN_LSTM(nn.Module):\n",
    "    def __init__(self, vocab_size, embed_dim, lstm_hidden_dim, num_classes):\n",
    "        super(CNN_LSTM, self).__init__()\n",
    "        self.embedding = nn.Embedding(vocab_size, embed_dim)\n",
    "        self.lstm = nn.LSTM(embed_dim, lstm_hidden_dim, batch_first=True)\n",
    "        self.conv1 = nn.Conv1d(in_channels=lstm_hidden_dim, out_channels=32, kernel_size=3, padding=1)\n",
    "        self.pool1 = nn.MaxPool1d(kernel_size=3, stride=2)\n",
    "        self.conv2 = nn.Conv1d(in_channels=32, out_channels=64, kernel_size=3, padding=1)\n",
    "        self.pool2 = nn.MaxPool1d(kernel_size=3, stride=2)\n",
    "        self.conv3 = nn.Conv1d(in_channels=64, out_channels=128, kernel_size=3, padding=1)\n",
    "        self.global_pool = nn.AdaptiveMaxPool1d(1)\n",
    "        self.fc1 = nn.Linear(128, 256)\n",
    "        self.fc2 = nn.Linear(256, num_classes)\n",
    "        self.dropout = nn.Dropout(0.5)\n",
    "\n",
    "    def forward(self, x):\n",
    "        x = self.embedding(x)\n",
    "        x, _ = self.lstm(x)\n",
    "        x = x.transpose(1, 2)\n",
    "        x = self.pool1(F.relu(self.conv1(x)))\n",
    "        x = self.pool2(F.relu(self.conv2(x)))\n",
    "        x = self.global_pool(F.relu(self.conv3(x))).squeeze(2)\n",
    "        x = F.relu(self.fc1(x))\n",
    "        x = self.dropout(x)\n",
    "        x = self.fc2(x)\n",
    "        return x"
   ]
  },
  {
   "cell_type": "code",
   "execution_count": 67,
   "metadata": {},
   "outputs": [],
   "source": [
    "# V2 (CNN BEFORE LSTM)\n",
    "class CNN_LSTM(nn.Module):\n",
    "    def __init__(self, max_features, embed_dim):\n",
    "        super(CNN_LSTM, self).__init__()\n",
    "        self.embedding = nn.Embedding(max_features, embed_dim)\n",
    "        self.conv1 = nn.Conv1d(embed_dim, 64, kernel_size=3, padding='same')\n",
    "        self.pool1 = nn.MaxPool1d(kernel_size=2)\n",
    "        self.conv2 = nn.Conv1d(64, 64, kernel_size=3, padding='same')\n",
    "        self.pool2 = nn.MaxPool1d(kernel_size=2)\n",
    "        self.lstm = nn.LSTM(64, 128, batch_first=True, dropout=0.2, num_layers=2)\n",
    "        self.fc = nn.Linear(128, 1)\n",
    "        \n",
    "    def forward(self, x):\n",
    "        x = self.embedding(x)\n",
    "        x = x.permute(0, 2, 1)\n",
    "        x = torch.relu(self.conv1(x))\n",
    "        x = self.pool1(x)\n",
    "        x = torch.relu(self.conv2(x))\n",
    "        x = self.pool2(x)\n",
    "        x = x.permute(0, 2, 1)\n",
    "        x, _ = self.lstm(x)\n",
    "        x = x[:, -1, :]\n",
    "        x = self.fc(x)\n",
    "        return x"
   ]
  },
  {
   "cell_type": "code",
   "execution_count": 69,
   "metadata": {},
   "outputs": [],
   "source": [
    "# 4.1.1 - initialize model\n",
    "#model = CNN_LSTM(vocab_size=V+1, embed_dim=20, lstm_hidden_dim=128, num_classes=1)\n",
    "model = CNN_LSTM(max_features=20000, embed_dim=128)\n",
    "# 4.1.2- loss\n",
    "criterion = nn.BCEWithLogitsLoss()\n",
    "# 4.1.3 - optimizer\n",
    "optimizer = optim.Adam(model.parameters(), lr=0.001)"
   ]
  },
  {
   "cell_type": "markdown",
   "metadata": {},
   "source": [
    "### 4.2 - TRAINING"
   ]
  },
  {
   "cell_type": "code",
   "execution_count": 70,
   "metadata": {},
   "outputs": [
    {
     "name": "stdout",
     "output_type": "stream",
     "text": [
      "Epoch 1, Train Loss: 0.4525655537886538, Train Accuracy: 77.89222306921016%, Validation Loss: 0.4334343575868786, Validation Accuracy: 79.04143356901413%\n",
      "Epoch 2, Train Loss: 0.4243964763732016, Train Accuracy: 79.65269980041309%, Validation Loss: 0.4292376635797799, Validation Accuracy: 79.2758350923288%\n",
      "Epoch 3, Train Loss: 0.414595533696048, Train Accuracy: 80.25974765382584%, Validation Loss: 0.42791075378532517, Validation Accuracy: 79.45444078704593%\n",
      "Epoch 4, Train Loss: 0.40803844500514436, Train Accuracy: 80.67865875066819%, Validation Loss: 0.4254891642300884, Validation Accuracy: 79.49931362274344%\n",
      "Epoch 5, Train Loss: 0.40440591695584444, Train Accuracy: 80.94251833764032%, Validation Loss: 0.42992554790532683, Validation Accuracy: 79.61474308825483%\n",
      "Epoch 6, Train Loss: 0.4011529373586951, Train Accuracy: 81.14526827200754%, Validation Loss: 0.4279269365927751, Validation Accuracy: 79.49872319069479%\n"
     ]
    },
    {
     "ename": "KeyboardInterrupt",
     "evalue": "",
     "output_type": "error",
     "traceback": [
      "\u001b[0;31m---------------------------------------------------------------------------\u001b[0m",
      "\u001b[0;31mKeyboardInterrupt\u001b[0m                         Traceback (most recent call last)",
      "\u001b[1;32m/Users/neo/Desktop/CIL/ETH-Computational-Intelligence-Lab-2024/notebooks/1.0-fb-CNN.ipynb Cell 23\u001b[0m line \u001b[0;36m1\n\u001b[1;32m     <a href='vscode-notebook-cell:/Users/neo/Desktop/CIL/ETH-Computational-Intelligence-Lab-2024/notebooks/1.0-fb-CNN.ipynb#X55sZmlsZQ%3D%3D?line=15'>16</a>\u001b[0m outputs \u001b[39m=\u001b[39m model(texts)\u001b[39m.\u001b[39msqueeze(\u001b[39m1\u001b[39m)\n\u001b[1;32m     <a href='vscode-notebook-cell:/Users/neo/Desktop/CIL/ETH-Computational-Intelligence-Lab-2024/notebooks/1.0-fb-CNN.ipynb#X55sZmlsZQ%3D%3D?line=16'>17</a>\u001b[0m loss \u001b[39m=\u001b[39m criterion(outputs, labels)\n\u001b[0;32m---> <a href='vscode-notebook-cell:/Users/neo/Desktop/CIL/ETH-Computational-Intelligence-Lab-2024/notebooks/1.0-fb-CNN.ipynb#X55sZmlsZQ%3D%3D?line=17'>18</a>\u001b[0m loss\u001b[39m.\u001b[39;49mbackward()\n\u001b[1;32m     <a href='vscode-notebook-cell:/Users/neo/Desktop/CIL/ETH-Computational-Intelligence-Lab-2024/notebooks/1.0-fb-CNN.ipynb#X55sZmlsZQ%3D%3D?line=18'>19</a>\u001b[0m optimizer\u001b[39m.\u001b[39mstep()\n\u001b[1;32m     <a href='vscode-notebook-cell:/Users/neo/Desktop/CIL/ETH-Computational-Intelligence-Lab-2024/notebooks/1.0-fb-CNN.ipynb#X55sZmlsZQ%3D%3D?line=20'>21</a>\u001b[0m train_loss \u001b[39m+\u001b[39m\u001b[39m=\u001b[39m loss\u001b[39m.\u001b[39mitem()\n",
      "File \u001b[0;32m~/Library/Python/3.9/lib/python/site-packages/torch/_tensor.py:492\u001b[0m, in \u001b[0;36mTensor.backward\u001b[0;34m(self, gradient, retain_graph, create_graph, inputs)\u001b[0m\n\u001b[1;32m    482\u001b[0m \u001b[39mif\u001b[39;00m has_torch_function_unary(\u001b[39mself\u001b[39m):\n\u001b[1;32m    483\u001b[0m     \u001b[39mreturn\u001b[39;00m handle_torch_function(\n\u001b[1;32m    484\u001b[0m         Tensor\u001b[39m.\u001b[39mbackward,\n\u001b[1;32m    485\u001b[0m         (\u001b[39mself\u001b[39m,),\n\u001b[0;32m   (...)\u001b[0m\n\u001b[1;32m    490\u001b[0m         inputs\u001b[39m=\u001b[39minputs,\n\u001b[1;32m    491\u001b[0m     )\n\u001b[0;32m--> 492\u001b[0m torch\u001b[39m.\u001b[39;49mautograd\u001b[39m.\u001b[39;49mbackward(\n\u001b[1;32m    493\u001b[0m     \u001b[39mself\u001b[39;49m, gradient, retain_graph, create_graph, inputs\u001b[39m=\u001b[39;49minputs\n\u001b[1;32m    494\u001b[0m )\n",
      "File \u001b[0;32m~/Library/Python/3.9/lib/python/site-packages/torch/autograd/__init__.py:251\u001b[0m, in \u001b[0;36mbackward\u001b[0;34m(tensors, grad_tensors, retain_graph, create_graph, grad_variables, inputs)\u001b[0m\n\u001b[1;32m    246\u001b[0m     retain_graph \u001b[39m=\u001b[39m create_graph\n\u001b[1;32m    248\u001b[0m \u001b[39m# The reason we repeat the same comment below is that\u001b[39;00m\n\u001b[1;32m    249\u001b[0m \u001b[39m# some Python versions print out the first line of a multi-line function\u001b[39;00m\n\u001b[1;32m    250\u001b[0m \u001b[39m# calls in the traceback and some print out the last line\u001b[39;00m\n\u001b[0;32m--> 251\u001b[0m Variable\u001b[39m.\u001b[39;49m_execution_engine\u001b[39m.\u001b[39;49mrun_backward(  \u001b[39m# Calls into the C++ engine to run the backward pass\u001b[39;49;00m\n\u001b[1;32m    252\u001b[0m     tensors,\n\u001b[1;32m    253\u001b[0m     grad_tensors_,\n\u001b[1;32m    254\u001b[0m     retain_graph,\n\u001b[1;32m    255\u001b[0m     create_graph,\n\u001b[1;32m    256\u001b[0m     inputs,\n\u001b[1;32m    257\u001b[0m     allow_unreachable\u001b[39m=\u001b[39;49m\u001b[39mTrue\u001b[39;49;00m,\n\u001b[1;32m    258\u001b[0m     accumulate_grad\u001b[39m=\u001b[39;49m\u001b[39mTrue\u001b[39;49;00m,\n\u001b[1;32m    259\u001b[0m )\n",
      "\u001b[0;31mKeyboardInterrupt\u001b[0m: "
     ]
    }
   ],
   "source": [
    "# 4.2.0 - since overfitting was observed -> early stopping parameters\n",
    "wait = 5\n",
    "best_val_loss = np.inf\n",
    "epochs_no_impr = 0\n",
    "early_stop = False\n",
    "\n",
    "# 4.2.1 - training loop\n",
    "epochs = 50\n",
    "for epoch in range(epochs):\n",
    "    model.train()\n",
    "    train_loss = 0.0\n",
    "    correct_train = 0\n",
    "    total_train = 0\n",
    "    for texts, labels in train_loader:\n",
    "        optimizer.zero_grad()\n",
    "        outputs = model(texts).squeeze(1)\n",
    "        loss = criterion(outputs, labels)\n",
    "        loss.backward()\n",
    "        optimizer.step()\n",
    "\n",
    "        train_loss += loss.item()\n",
    "        predicted = torch.round(torch.sigmoid(outputs))\n",
    "        total_train += labels.size(0)\n",
    "        correct_train += (predicted == labels).sum().item()\n",
    "    \n",
    "    train_accuracy = 100 * correct_train / total_train\n",
    "    \n",
    "    # 4.2.2 - validation\n",
    "    model.eval()\n",
    "    val_loss = 0.0\n",
    "    correct_val = 0\n",
    "    total_val = 0\n",
    "    with torch.no_grad():\n",
    "        for texts, labels in val_loader:\n",
    "            outputs = model(texts).squeeze(1)\n",
    "            loss = criterion(outputs, labels)\n",
    "            val_loss += loss.item()\n",
    "            predicted = torch.round(torch.sigmoid(outputs))\n",
    "            total_val += labels.size(0)\n",
    "            correct_val += (predicted == labels).sum().item()\n",
    "\n",
    "    val_accuracy = 100 * correct_val / total_val\n",
    "    avg_val_loss = val_loss / len(val_loader)\n",
    "\n",
    "    print(f'Epoch {epoch+1}, Train Loss: {train_loss / len(train_loader)}, Train Accuracy: {train_accuracy}%, '\n",
    "          f'Validation Loss: {avg_val_loss}, Validation Accuracy: {val_accuracy}%')\n",
    "\n",
    "    # 4.2.3 - early stopping \n",
    "    if avg_val_loss < best_val_loss:\n",
    "        best_val_loss = avg_val_loss\n",
    "        epochs_no_impr = 0\n",
    "        torch.save(model.state_dict(), 'best_CNN_LSTM_model.pt')\n",
    "    else:\n",
    "        epochs_no_impr += 1\n",
    "        if epochs_no_impr >= wait:\n",
    "            print('----> early stopped')\n",
    "            early_stop = True\n",
    "            break\n",
    "    "
   ]
  },
  {
   "cell_type": "markdown",
   "metadata": {},
   "source": [
    "### 4.3 - TESTING"
   ]
  },
  {
   "cell_type": "code",
   "execution_count": null,
   "metadata": {},
   "outputs": [],
   "source": [
    "# 4.3.0 - load best model\n",
    "model.load_state_dict(torch.load('best_model.pt'))\n",
    "\n",
    "# 4.3.1 - testing loop\n",
    "model.eval()\n",
    "test_loss = 0.0\n",
    "correct_test = 0\n",
    "total_test = 0\n",
    "with torch.no_grad():\n",
    "    for texts, labels in test_loader:\n",
    "        outputs = model(texts)\n",
    "        loss = criterion(outputs, labels)\n",
    "        test_loss += loss.item()\n",
    "        _, predicted = torch.max(outputs.data, 1)\n",
    "        total_test += labels.size(0)\n",
    "        correct_test += (predicted == labels).sum().item()\n",
    "\n",
    "test_accuracy = 100 * correct_test / total_test\n",
    "print(f'Test Loss: {test_loss / len(test_loader)}, Test Accuracy: {test_accuracy}%')"
   ]
  },
  {
   "cell_type": "markdown",
   "metadata": {},
   "source": []
  },
  {
   "cell_type": "code",
   "execution_count": null,
   "metadata": {},
   "outputs": [],
   "source": []
  }
 ],
 "metadata": {
  "kernelspec": {
   "display_name": "Python 3",
   "language": "python",
   "name": "python3"
  },
  "language_info": {
   "codemirror_mode": {
    "name": "ipython",
    "version": 3
   },
   "file_extension": ".py",
   "mimetype": "text/x-python",
   "name": "python",
   "nbconvert_exporter": "python",
   "pygments_lexer": "ipython3",
   "version": "3.9.6"
  }
 },
 "nbformat": 4,
 "nbformat_minor": 2
}
