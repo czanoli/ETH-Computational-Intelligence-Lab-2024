{
 "cells": [
  {
   "cell_type": "code",
   "execution_count": 5,
   "metadata": {},
   "outputs": [],
   "source": [
    "import pandas as pd"
   ]
  },
  {
   "cell_type": "code",
   "execution_count": 2,
   "metadata": {},
   "outputs": [],
   "source": [
    "# Path that contains the data\n",
    "DATA_PATH = \"../data/raw/\"\n",
    "\n",
    "# SMALL or FULL\n",
    "DATASET_TYPE = \"SMALL\"\n",
    "\n",
    "# File names\n",
    "train_files = {\n",
    "        \"FULL\": [\"train_pos_full.txt\", \"train_neg_full.txt\"],\n",
    "        \"SMALL\": [\"train_pos.txt\", \"train_neg.txt\"],\n",
    "        }\n",
    "test_file = {\n",
    "    \"TEST\": \"test_data.txt\"\n",
    "}\n",
    "\n"
   ]
  },
  {
   "cell_type": "markdown",
   "metadata": {},
   "source": [
    "### Load Data"
   ]
  },
  {
   "cell_type": "code",
   "execution_count": 66,
   "metadata": {},
   "outputs": [],
   "source": [
    "def load_training_data(file_path, dataset_type):\n",
    "    \n",
    "    if dataset_type not in train_files.keys():\n",
    "        raise ValueError(f\"Invalid training dataset_type. Expected one of {list(train_files.keys())}\")\n",
    "    \n",
    "    df = pd.DataFrame()\n",
    "    for file in train_files[dataset_type]:\n",
    "        label = \"positive\" if \"pos\" in file else \"negative\" if \"neg\" in file else None\n",
    "        with open(file_path + file, 'r', encoding='utf-8') as file:\n",
    "            tweets = file.readlines()\n",
    "        tmp_df = pd.DataFrame(tweets, columns=[\"tweet\"])\n",
    "        tmp_df[\"label\"] = label\n",
    "        df = pd.concat([df, tmp_df], ignore_index=True)\n",
    "    \n",
    "    return df\n",
    "\n",
    "def load_test_data(file_path, dataset_type):\n",
    "    if dataset_type not in test_file.keys():\n",
    "        raise ValueError(f\"Invalid test dataset_type. Expected {list(train_files.keys())}\")\n",
    "    \n",
    "    df = pd.DataFrame()\n",
    "    with open(file_path + test_file[dataset_type], 'r', encoding='utf-8') as file:\n",
    "        data = [line.split(',', 1) for line in file.readlines()]\n",
    "    df = pd.DataFrame(data, columns=[\"id\", \"tweet\"])\n",
    "    \n",
    "    return df\n"
   ]
  },
  {
   "cell_type": "code",
   "execution_count": 67,
   "metadata": {},
   "outputs": [],
   "source": [
    "df = load_training_data(DATA_PATH, \"SMALL\")"
   ]
  },
  {
   "cell_type": "code",
   "execution_count": 68,
   "metadata": {},
   "outputs": [],
   "source": [
    "df = load_test_data(DATA_PATH, \"TEST\")"
   ]
  },
  {
   "cell_type": "code",
   "execution_count": 69,
   "metadata": {},
   "outputs": [
    {
     "data": {
      "text/html": [
       "<div>\n",
       "<style scoped>\n",
       "    .dataframe tbody tr th:only-of-type {\n",
       "        vertical-align: middle;\n",
       "    }\n",
       "\n",
       "    .dataframe tbody tr th {\n",
       "        vertical-align: top;\n",
       "    }\n",
       "\n",
       "    .dataframe thead th {\n",
       "        text-align: right;\n",
       "    }\n",
       "</style>\n",
       "<table border=\"1\" class=\"dataframe\">\n",
       "  <thead>\n",
       "    <tr style=\"text-align: right;\">\n",
       "      <th></th>\n",
       "      <th>id</th>\n",
       "      <th>tweet</th>\n",
       "    </tr>\n",
       "  </thead>\n",
       "  <tbody>\n",
       "    <tr>\n",
       "      <th>0</th>\n",
       "      <td>1</td>\n",
       "      <td>sea doo pro sea scooter ( sports with the port...</td>\n",
       "    </tr>\n",
       "    <tr>\n",
       "      <th>1</th>\n",
       "      <td>2</td>\n",
       "      <td>&lt;user&gt; shucks well i work all week so now i ca...</td>\n",
       "    </tr>\n",
       "    <tr>\n",
       "      <th>2</th>\n",
       "      <td>3</td>\n",
       "      <td>i cant stay away from bug thats my baby\\n</td>\n",
       "    </tr>\n",
       "    <tr>\n",
       "      <th>3</th>\n",
       "      <td>4</td>\n",
       "      <td>&lt;user&gt; no ma'am ! ! ! lol im perfectly fine an...</td>\n",
       "    </tr>\n",
       "    <tr>\n",
       "      <th>4</th>\n",
       "      <td>5</td>\n",
       "      <td>whenever i fall asleep watching the tv , i alw...</td>\n",
       "    </tr>\n",
       "  </tbody>\n",
       "</table>\n",
       "</div>"
      ],
      "text/plain": [
       "  id                                              tweet\n",
       "0  1  sea doo pro sea scooter ( sports with the port...\n",
       "1  2  <user> shucks well i work all week so now i ca...\n",
       "2  3          i cant stay away from bug thats my baby\\n\n",
       "3  4  <user> no ma'am ! ! ! lol im perfectly fine an...\n",
       "4  5  whenever i fall asleep watching the tv , i alw..."
      ]
     },
     "execution_count": 69,
     "metadata": {},
     "output_type": "execute_result"
    }
   ],
   "source": [
    "df.head()"
   ]
  },
  {
   "cell_type": "code",
   "execution_count": null,
   "metadata": {},
   "outputs": [],
   "source": []
  },
  {
   "cell_type": "code",
   "execution_count": null,
   "metadata": {},
   "outputs": [],
   "source": []
  }
 ],
 "metadata": {
  "kernelspec": {
   "display_name": "CIL2024",
   "language": "python",
   "name": "python3"
  },
  "language_info": {
   "codemirror_mode": {
    "name": "ipython",
    "version": 3
   },
   "file_extension": ".py",
   "mimetype": "text/x-python",
   "name": "python",
   "nbconvert_exporter": "python",
   "pygments_lexer": "ipython3",
   "version": "3.12.4"
  }
 },
 "nbformat": 4,
 "nbformat_minor": 2
}
